{
  "nbformat": 4,
  "nbformat_minor": 0,
  "metadata": {
    "colab": {
      "provenance": [],
      "authorship_tag": "ABX9TyP0A7eHUPdFpL1ceYZM8Wuc",
      "include_colab_link": true
    },
    "kernelspec": {
      "name": "python3",
      "display_name": "Python 3"
    },
    "language_info": {
      "name": "python"
    }
  },
  "cells": [
    {
      "cell_type": "markdown",
      "metadata": {
        "id": "view-in-github",
        "colab_type": "text"
      },
      "source": [
        "<a href=\"https://colab.research.google.com/github/rihemmaarefe/Mandala/blob/main/Mandala.ipynb\" target=\"_parent\"><img src=\"https://colab.research.google.com/assets/colab-badge.svg\" alt=\"Open In Colab\"/></a>"
      ]
    },
    {
      "cell_type": "code",
      "execution_count": null,
      "metadata": {
        "id": "GlnYrKNAuu60"
      },
      "outputs": [],
      "source": [
        "import turtle\n",
        "import math\n",
        "\n",
        "# function to draw a mandala\n",
        "def draw_mandala(radius, num_petals):\n",
        "    # calculate the angle between each petal\n",
        "    angle = 360 / num_petals\n",
        "    # set the turtle speed and pen color\n",
        "    turtle.speed(0)\n",
        "    turtle.pencolor(pen_color)\n",
        "    turtle.pensize(pen_width)\n",
        "    # loop to draw the mandala\n",
        "    for i in range(num_petals):\n",
        "        # move the turtle to the center of the mandala\n",
        "        turtle.up()\n",
        "        turtle.goto(0, 0)\n",
        "        turtle.down()\n",
        "        # rotate the turtle to the starting angle\n",
        "        turtle.right(i * angle)\n",
        "        # draw the petal\n",
        "        turtle.begin_fill()\n",
        "        turtle.circle(radius, angle / 2, steps=50)\n",
        "        turtle.left(180 - angle)\n",
        "        turtle.circle(radius, angle / 2, steps=50)\n",
        "        turtle.end_fill()\n",
        "\n",
        "# get user input for mandala parameters\n",
        "radius = int(input(\"Enter the radius of the mandala: \"))\n",
        "num_petals = int(input(\"Enter the number of petals: \"))\n",
        "pen_color = input(\"Enter the pen color: \")\n",
        "pen_width = int(input(\"Enter the pen width: \"))\n",
        "\n",
        "# set up the turtle\n",
        "turtle.speed(0)\n",
        "turtle.pencolor(pen_color)\n",
        "turtle.pensize(pen_width)\n",
        "\n",
        "# draw the mandala\n",
        "draw_mandala(radius, num_petals)\n",
        "\n",
        "# allow the user to save the image\n",
        "turtle.getcanvas().postscript(file=\"mandala.eps\")\n"
      ]
    },
    {
      "cell_type": "markdown",
      "source": [
        "In this program, we define the draw_mandala() function, which takes the radius of the mandala and the number of petals as parameters. The function then uses a loop to draw the mandala, rotating the turtle and drawing each petal.\n",
        "\n",
        "The program prompts the user to enter the mandala parameters, as well as the pen color and width, using the input() function. It then sets up the turtle and calls the draw_mandala() function with the user input parameters.\n",
        "\n",
        "Finally, the program allows the user to save the image using the getcanvas().postscript() function.\n",
        "\n",
        "You can customize this code further by adding more options for the user to choose from, such as the color and size of each petal, or by adding a graphical user interface (GUI) using a library like Tkinter."
      ],
      "metadata": {
        "id": "Q3oyWzCpu0KL"
      }
    }
  ]
}